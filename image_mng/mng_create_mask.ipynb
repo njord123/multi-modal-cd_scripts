{
 "cells": [
  {
   "cell_type": "code",
   "execution_count": null,
   "metadata": {},
   "outputs": [],
   "source": [
    "import os\n",
    "import matplotlib.pyplot as plt\n",
    "import geopandas as gpd\n",
    "import pandas as pd"
   ]
  },
  {
   "cell_type": "code",
   "execution_count": null,
   "metadata": {},
   "outputs": [],
   "source": [
    "# Get data and set working directory\n",
    "\n",
    "arealdekke = gpd.GeoDataFrame()\n",
    "bygninger = gpd.GeoDataFrame()\n",
    "samferdsel = gpd.GeoDataFrame()\n",
    "\n",
    "fylker_n50 = ['oslo', 'viken', 'innlandet', 'vestfold']       # n50 2020\n",
    "\n",
    "year = 2020\n",
    "\n",
    "for f in fylker_n50:\n",
    "\n",
    "    data = f'./{f}'\n",
    "    \n",
    "    arealdekke_path = os.path.join(data, f\"arealdekke_a_{year}.shp\")\n",
    "    bygninger_path = os.path.join(data, f\"bygninger_a_{year}.shp\")\n",
    "    samferdsel_path = os.path.join(data, f\"samferdsel_l_{year}.shp\")\n",
    "\n",
    "    arealdekke = pd.concat([arealdekke, gpd.read_file(arealdekke_path)])\n",
    "    bygninger = pd.concat([bygninger, gpd.read_file(bygninger_path)])\n",
    "    samferdsel = pd.concat([samferdsel, gpd.read_file(samferdsel_path)])\n",
    "\n",
    "print(arealdekke.shape)\n",
    "print(bygninger.shape)\n",
    "print(samferdsel.shape)"
   ]
  },
  {
   "cell_type": "code",
   "execution_count": null,
   "metadata": {},
   "outputs": [],
   "source": [
    "\n",
    "aoi = gpd.read_file(\"./32vnm.geojson\")\n",
    "\n",
    "from operator import itemgetter\n",
    "bounds = aoi.geometry.apply(lambda x: x.bounds).tolist()\n",
    "\n",
    "minx, miny, maxx, maxy = min(bounds, key=itemgetter(0))[0], min(bounds, key=itemgetter(1))[1], max(bounds, key=itemgetter(2))[2], max(bounds, key=itemgetter(3))[3]\n",
    "bbox = [minx, miny, maxx, maxy]\n",
    "\n",
    "print(bbox)"
   ]
  },
  {
   "cell_type": "code",
   "execution_count": null,
   "metadata": {},
   "outputs": [],
   "source": [
    "arealdekke = gpd.clip(arealdekke, bbox)\n",
    "bygninger = gpd.clip(bygninger, bbox)\n",
    "samferdsel = gpd.clip(samferdsel, bbox)"
   ]
  },
  {
   "cell_type": "code",
   "execution_count": null,
   "metadata": {},
   "outputs": [],
   "source": [
    "area_objtypes = list(arealdekke.objtype.unique())\n",
    "print(area_objtypes)\n",
    "\n",
    "bygg_objtypes = list(bygninger.objtype.unique())\n",
    "print(bygg_objtypes)\n",
    "\n",
    "samf_objtype = list(samferdsel.objtype.unique())\n",
    "print(samf_objtype)\n",
    "\n",
    "samf_objtype = list(samferdsel.vegkategor.unique())\n",
    "print(samf_objtype)\n",
    "\n",
    "samf_medium = list(samferdsel.medium.unique())\n",
    "print(samf_medium)"
   ]
  },
  {
   "cell_type": "code",
   "execution_count": null,
   "metadata": {},
   "outputs": [],
   "source": [
    "area_types = ['Tettbebyggelse', 'Industriområde', 'Steinbrudd', 'BymessigBebyggelse', 'Lufthavn', 'Steintipp']\n",
    "\n",
    "area_vegetasjon_types = ['DyrketMark', 'Skog', 'Myr']\n",
    "area_vann_types =['Innsjø','Havflate', 'Elv', 'InnsjøRegulert']\n",
    "area_open_types = ['ÅpentOmråde']\n",
    "\n",
    "area_objtypes.sort()\n",
    "test_list = area_types+area_vegetasjon_types+area_vann_types+area_open_types\n",
    "test_list.sort()\n",
    "print(area_objtypes == test_list)\n",
    "\n",
    "samf_veg = ['VegSenterlinje']\n",
    "samf_veg_kategori = ['E', 'R', 'F', 'K']\n",
    "samf_bane = ['Bane']\n",
    "\n",
    "samf_medium = ['L', 'T', 'B']"
   ]
  },
  {
   "cell_type": "code",
   "execution_count": null,
   "metadata": {},
   "outputs": [],
   "source": [
    "arealdekke_built_up = arealdekke[arealdekke['objtype'].isin(area_types)]\n",
    "\n",
    "samferdsel_roads = samferdsel[(samferdsel['vegkategor'].isin(samf_veg_kategori) & samferdsel['medium'].isin(samf_medium) & samferdsel['objtype'].isin(samf_veg)) | (samferdsel['objtype'].isin(samf_bane) & samferdsel['medium'].isin(samf_medium))]\n",
    "\n",
    "samferdsel_roads['geometry'] = samferdsel_roads.buffer(10)\n",
    "\n",
    "arealdekke_vegetasjon = arealdekke[arealdekke['objtype'].isin(area_vegetasjon_types)]\n",
    "arealdekke_vann = arealdekke[arealdekke['objtype'].isin(area_vann_types)]\n",
    "arealdekke_open = arealdekke[arealdekke['objtype'].isin(area_open_types)]\n",
    "\n",
    "aapen = arealdekke_open[['geometry']]\n",
    "aapen['value'] = 0\n",
    "aapen['color'] = 'r'\n",
    "\n",
    "vegetasjon = arealdekke_vegetasjon[['geometry']]\n",
    "vegetasjon['value'] = 1\n",
    "vegetasjon['color'] = 'g'\n",
    "\n",
    "vann = arealdekke_vann[['geometry']]\n",
    "vann['value'] = 2\n",
    "vann['color'] = 'b'\n",
    "\n",
    "built_up = arealdekke[['geometry']]\n",
    "built_up['value'] = 3\n",
    "built_up['color'] = 'y'\n",
    "\n",
    "roads = samferdsel_roads[['geometry']]\n",
    "roads['value'] = 4\n",
    "roads['color'] = 'k'\n",
    "\n",
    "built_up.head()"
   ]
  },
  {
   "cell_type": "code",
   "execution_count": null,
   "metadata": {},
   "outputs": [],
   "source": [
    "samferdsel_roads.objtype.unique()"
   ]
  },
  {
   "cell_type": "code",
   "execution_count": null,
   "metadata": {},
   "outputs": [],
   "source": [
    "mask_vector = pd.concat([built_up, aapen, vegetasjon, vann, roads])\n",
    "mask_vector.plot(color=mask_vector['color'])"
   ]
  },
  {
   "cell_type": "code",
   "execution_count": null,
   "metadata": {},
   "outputs": [],
   "source": [
    "import rasterio\n",
    "from rasterio import features, Affine\n",
    "from rasterio.crs import CRS\n",
    "\n",
    "meta = {'driver': 'GTiff',\n",
    "        'dtype': 'float32',\n",
    "        'nodata': 0,\n",
    "        'width': 10240,\n",
    "        'height': 10240,\n",
    "        'count': 1,\n",
    "        'crs': CRS.from_epsg(25832),\n",
    "        'transform': Affine(10.0, 0.0, 500000.0, 0.0, -10.0, 6700000.0)}\n",
    "        \n",
    "with rasterio.open(f'mask.tif', 'w+', **meta) as out:\n",
    "    out_arr = out.read(1)\n",
    "\n",
    "    # this is where we create a generator of geom, value pairs to use in rasterizing\n",
    "    shapes = ((geom,value) for geom, value in zip(mask_vector.geometry, mask_vector.value))\n",
    "\n",
    "    burned = features.rasterize(shapes=shapes, fill=0, out=out_arr, transform=out.transform)\n",
    "    out.write_band(1, burned)"
   ]
  }
 ],
 "metadata": {
  "kernelspec": {
   "display_name": "ml",
   "language": "python",
   "name": "python3"
  },
  "language_info": {
   "codemirror_mode": {
    "name": "ipython",
    "version": 3
   },
   "file_extension": ".py",
   "mimetype": "text/x-python",
   "name": "python",
   "nbconvert_exporter": "python",
   "pygments_lexer": "ipython3",
   "version": "3.9.17"
  }
 },
 "nbformat": 4,
 "nbformat_minor": 2
}
