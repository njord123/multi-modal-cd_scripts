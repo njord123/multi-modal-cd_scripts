{
 "cells": [
  {
   "cell_type": "code",
   "execution_count": null,
   "metadata": {},
   "outputs": [],
   "source": [
    "import os\n",
    "import glob\n",
    "from shapely import wkt\n",
    "from shapely.geometry import shape\n",
    "from CopernicusAPI import S2_MSI_Catalogue, OData_Catalogue, CopernicusAccessToken, credentials_from_json\n",
    "import zipfile\n",
    "import json\n",
    "import geojson\n",
    "from osgeo import gdal"
   ]
  },
  {
   "cell_type": "code",
   "execution_count": null,
   "metadata": {},
   "outputs": [],
   "source": [
    "year = \"2023\"\n",
    "\n",
    "path = '../geodata/32vnm_latlng.geojson'\n",
    "def from_json(path):\n",
    "    with open(path) as f:\n",
    "        features = json.load(f)[\"features\"]\n",
    "        for feature in features:\n",
    "            geo = shape(feature[\"geometry\"])\n",
    "            # format geometry coordinates as WKT\n",
    "            wkt = geo.wkt\n",
    "            print(wkt)\n",
    "            return wkt\n",
    "\n",
    "def centroide(path):\n",
    "    g = wkt.loads(from_json(path))\n",
    "    print(g.centroid)\n",
    "    return g.centroid\n",
    "\n",
    "creds = credentials_from_json(\"./cop_creds.json\") # .json file containing my credentials\n",
    "CAT = CopernicusAccessToken(creds) # For authenticating\n",
    "\n",
    "# Query = OData_Catalogue(\"SENTINEL-1\")\n",
    "Query = OData_Catalogue(\"Sentinel-2\")\n",
    "\n",
    "# Query.geographic(centroide(path))\n",
    "Query.mrgs(\"32VNM\") # Only works for Sentinel-2\n",
    "\n",
    "Query = S2_MSI_Catalogue(\"L2A\")\n",
    "# Query.instrument(\"GRD\")\n",
    "Query.cloud_cover(0.3)\n",
    "Query.start(f\"{year}-06-01\")\n",
    "Query.end(f\"{year}-09-01\")\n",
    "\n",
    "# Query.direct_filter(\" and (Attributes/OData.CSC.DoubleAttribute/any(att:att/Name eq 'relativeOrbitNumber' and att/OData.CSC.DoubleAttribute/Value eq 44) \\\n",
    "#                     or Attributes/OData.CSC.DoubleAttribute/any(att:att/Name eq 'relativeOrbitNumber' and att/OData.CSC.DoubleAttribute/Value eq 139))\")\n",
    "\n",
    "Query.top(100)\n",
    "# Query.orderby(\"start\", \"asc\")\n",
    "\n",
    "dl_folder = os.path.join(\"./Sentinel-2\", year)\n",
    "Query.Run(dl_folder, CAT)"
   ]
  },
  {
   "cell_type": "code",
   "execution_count": null,
   "metadata": {},
   "outputs": [],
   "source": [
    "zips = glob.glob(os.path.join(dl_folder, '*.zip'))\n",
    "for zip in zips:\n",
    "    print(zip)\n",
    "    with zipfile.ZipFile(zip, 'r') as z:\n",
    "        z.extractall(dl_folder)\n",
    "    os.remove(zip)"
   ]
  },
  {
   "cell_type": "code",
   "execution_count": null,
   "metadata": {},
   "outputs": [],
   "source": [
    "import glob\n",
    "years = [2020,2021,2022,2023]\n",
    "for year in years:\n",
    "    print(year)\n",
    "    imgs = glob.glob(f'/filserver/frrov/imagery/Sentinel-1/*/*_aligned.tiff')\n",
    "    print(len(imgs))\n",
    "    # display(imgs)"
   ]
  }
 ],
 "metadata": {
  "kernelspec": {
   "display_name": "ml",
   "language": "python",
   "name": "python3"
  },
  "language_info": {
   "codemirror_mode": {
    "name": "ipython",
    "version": 3
   },
   "file_extension": ".py",
   "mimetype": "text/x-python",
   "name": "python",
   "nbconvert_exporter": "python",
   "pygments_lexer": "ipython3",
   "version": "3.9.17"
  }
 },
 "nbformat": 4,
 "nbformat_minor": 2
}
