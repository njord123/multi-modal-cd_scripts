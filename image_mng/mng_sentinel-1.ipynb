{
 "cells": [
  {
   "cell_type": "code",
   "execution_count": null,
   "metadata": {},
   "outputs": [],
   "source": [
    "import os\n",
    "import glob\n",
    "import json\n",
    "import geojson\n",
    "from osgeo import gdal"
   ]
  },
  {
   "cell_type": "code",
   "execution_count": null,
   "metadata": {},
   "outputs": [],
   "source": [
    "year = \"2023\"\n",
    "dl_folder = os.path.join(\"./Sentinel-1\", year)\n",
    "\n",
    "def json_latlon_correction(json_file):\n",
    "    json_file = json.loads(json_file)\n",
    "    for i in range(len(json_file[\"coordinates\"][0])):\n",
    "        coord_pair = json_file[\"coordinates\"][0][i]\n",
    "        json_file[\"coordinates\"][0][i] = coord_pair[::-1]\n",
    "    return json_file\n",
    "\n",
    "def bbox(poly):\n",
    "    coord = poly['geometry']['coordinates']\n",
    "    xmin = min([i[0] for i in coord[0]])\n",
    "    ymin = min([i[1] for i in coord[0]])\n",
    "    xmax = max([i[0] for i in coord[0]])\n",
    "    ymax = max([i[1] for i in coord[0]])\n",
    "    return [xmin, ymin, xmax, ymax]\n",
    "\n",
    "extent_file = \"../geodata/32vnm.geojson\"\n",
    "\n",
    "with open(extent_file) as f:\n",
    "    gj = geojson.load(f)\n",
    "extentSRS = \"EPSG:\" + gj['crs']['properties']['name'].split(':')[-1]\n",
    "extent = gj['features'][0]\n",
    "print(extentSRS)\n",
    "envelope = bbox(extent)\n",
    "print(envelope)\n",
    "\n",
    "# img_folder = dl_folder\n",
    "all_tiff = glob.glob(f\"{dl_folder}/*.tiff\", recursive=False)\n",
    "\n",
    "options = {\n",
    "    \"format\": \"GTiff\",\n",
    "    \"xRes\": 10,\n",
    "    \"yRes\": 10,\n",
    "    \"outputBoundsSRS\": extentSRS,\n",
    "    \"outputBounds\": envelope,\n",
    "    #\"cutlineDSName\": extent,\n",
    "    #\"cropToCutline\": True,\n",
    "    \"dstSRS\": extentSRS+\"-tap\",\n",
    "    \"resampleAlg\": \"near\",\n",
    "}\n",
    "\n",
    "for i, img in enumerate(all_tiff):\n",
    "    print(i+1, \"/\", len(all_tiff))\n",
    "    input_raster = gdal.Open(img)\n",
    "    pre, ext = os.path.splitext(img)\n",
    "    output_raster = pre + \"_aligned\"+ ext\n",
    "\n",
    "    ds_aligned = gdal.Warp(output_raster, input_raster, **options)\n",
    "    # print(ds_aligned.GetGeoTransform())\n",
    "    print(output_raster)\n",
    "    del ds_aligned"
   ]
  }
 ],
 "metadata": {
  "language_info": {
   "name": "python"
  }
 },
 "nbformat": 4,
 "nbformat_minor": 2
}
