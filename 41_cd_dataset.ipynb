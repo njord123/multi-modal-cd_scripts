{
 "cells": [
  {
   "cell_type": "code",
   "execution_count": null,
   "metadata": {},
   "outputs": [],
   "source": [
    "import glob\n",
    "from osgeo import gdal, ogr, osr\n",
    "import rasterio as rio\n",
    "import numpy as np\n",
    "from pathlib import Path\n",
    "import geopandas as gpd\n",
    "from rasterstats import zonal_stats"
   ]
  },
  {
   "cell_type": "code",
   "execution_count": null,
   "metadata": {},
   "outputs": [],
   "source": [
    "dif_imgs = glob.glob('/filserver/user/imagery/results/difference_*2021_2023.tiff')\n",
    "dif_imgs"
   ]
  },
  {
   "cell_type": "code",
   "execution_count": null,
   "metadata": {},
   "outputs": [],
   "source": [
    "def normalize_2(band):\n",
    "    band_min, band_max = (band.min(), band.max())\n",
    "    print(band_min, band_max)\n",
    "    return ((band-band_min)/((band_max - band_min))) * 2 - 1\n",
    "\n",
    "for in_path in dif_imgs:\n",
    "    print(in_path)\n",
    "    norm_path = f\"/filserver/user/imagery/results/{Path(in_path).stem}_norm.tiff\"\n",
    "\n",
    "    src_ds = rio.open( in_path )\n",
    "    meta = src_ds.meta\n",
    "    srcband = src_ds.read(1)\n",
    "    norm_srcband = normalize_2(np.nan_to_num(srcband))\n",
    "    with rio.open(norm_path, 'w', **meta) as dest:\n",
    "        dest.write(norm_srcband,1)\n",
    "    dest.close()"
   ]
  },
  {
   "cell_type": "code",
   "execution_count": null,
   "metadata": {},
   "outputs": [],
   "source": [
    "norm_dif_imgs = glob.glob('/filserver/user/imagery/results/difference_*_2021_2023_norm.tiff')\n",
    "norm_dif_imgs"
   ]
  },
  {
   "cell_type": "code",
   "execution_count": null,
   "metadata": {},
   "outputs": [],
   "source": [
    "for in_path in norm_dif_imgs:\n",
    "    out_path = f\"/filserver/frruserov/imagery/results/{Path(in_path).stem}.geojson\"\n",
    "    # tmp_tiff = '/filserver/user/imagery/results/tmp.tiff'\n",
    "\n",
    "    src_ds = gdal.Open( in_path )\n",
    "    srcband = src_ds.GetRasterBand(1)\n",
    "\n",
    "    dst_layername = 'polygon'\n",
    "    drv = ogr.GetDriverByName(\"GeoJSON\")\n",
    "    dst_ds = drv.CreateDataSource( out_path )\n",
    "\n",
    "    sp_ref = osr.SpatialReference()\n",
    "    sp_ref.SetFromUserInput('EPSG:25832')\n",
    "\n",
    "    dst_layer = dst_ds.CreateLayer(dst_layername, srs = sp_ref )\n",
    "\n",
    "    fld = ogr.FieldDefn(\"DN\", ogr.OFTInteger)\n",
    "    dst_layer.CreateField(fld)\n",
    "    dst_field = dst_layer.GetLayerDefn().GetFieldIndex(\"DN\")\n",
    "\n",
    "    gdal.Polygonize( srcband, None, dst_layer, dst_field, [], callback=None )\n",
    "\n",
    "    del src_ds\n",
    "    del dst_ds\n",
    "    # os.remove(tmp_tiff)\n",
    "\n",
    "    gdf = gpd.read_file(out_path)\n",
    "    selected_polygons = gdf[gdf['DN'] != 0]\n",
    "    large_polygons = selected_polygons[selected_polygons.area >= 400]\n",
    "\n",
    "    stats = zonal_stats(large_polygons, in_path, stats=\"mean\", geojson_out=True)\n",
    "    result_gdf = gpd.GeoDataFrame.from_features(stats, crs=large_polygons.crs)\n",
    "    result_gdf.to_file(out_path, driver='GeoJSON')\n",
    "    print(out_path)"
   ]
  }
 ],
 "metadata": {
  "kernelspec": {
   "display_name": "ml",
   "language": "python",
   "name": "python3"
  },
  "language_info": {
   "codemirror_mode": {
    "name": "ipython",
    "version": 3
   },
   "file_extension": ".py",
   "mimetype": "text/x-python",
   "name": "python",
   "nbconvert_exporter": "python",
   "pygments_lexer": "ipython3",
   "version": "3.9.17"
  }
 },
 "nbformat": 4,
 "nbformat_minor": 2
}
