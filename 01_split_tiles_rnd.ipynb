{
 "cells": [
  {
   "cell_type": "code",
   "execution_count": null,
   "metadata": {},
   "outputs": [],
   "source": [
    "import os\n",
    "import glob\n",
    "import utils"
   ]
  },
  {
   "cell_type": "code",
   "execution_count": null,
   "metadata": {},
   "outputs": [],
   "source": [
    "filserver = \"/filserver/user/\"\n",
    "dataserver = \"/data/user/\"\n",
    "year = '2020'\n",
    "tile_size = 512\n",
    "\n",
    "import shutil\n",
    "\n",
    "img_dest_folder = os.path.join(dataserver, \"imagery\", \"512_rnd\")\n",
    "\n",
    "types = [\"test\", \"train\"]\n",
    "sensors = [\"s1\", \"s2\", \"s1s2\"]\n",
    "functions = [\"mask\", \"img\"]"
   ]
  },
  {
   "cell_type": "code",
   "execution_count": null,
   "metadata": {},
   "outputs": [],
   "source": [
    "import geojson\n",
    "with open('/filserver/user/geodata/train_test_tiles_rndplc.geojson') as f:\n",
    "    gj = geojson.load(f)\n",
    "features = gj['features']\n",
    "tile_list = [f['properties']['name'] for f in features]\n",
    "print(len(tile_list))\n",
    "train_tiles = [f['properties']['name'] for f in features if f['properties']['type'] == 'train']\n",
    "print(len(train_tiles))\n",
    "test_tiles = [f['properties']['name'] for f in features if f['properties']['type'] == 'test']\n",
    "print(len(test_tiles))\n",
    "\n",
    "percent_train = (len(train_tiles) /len(tile_list)) * 100\n",
    "print(percent_train)\n",
    "\n",
    "display(train_tiles[:10])"
   ]
  },
  {
   "cell_type": "code",
   "execution_count": null,
   "metadata": {},
   "outputs": [],
   "source": [
    "def make_clean_folder(dir, name):\n",
    "    folder = os.path.join(dir, name)\n",
    "    if os.path.exists(folder):\n",
    "        shutil.rmtree(folder)\n",
    "        os.mkdir(folder)\n",
    "    else:\n",
    "        os.mkdir(folder)\n",
    "    return folder"
   ]
  },
  {
   "cell_type": "code",
   "execution_count": null,
   "metadata": {},
   "outputs": [],
   "source": [
    "for type in types:\n",
    "    type_folder = make_clean_folder(img_dest_folder, type)\n",
    "    for sensor in sensors:\n",
    "        sensor_folder = make_clean_folder(type_folder, sensor)\n",
    "        for func in function:\n",
    "            make_clean_folder(sensor_folder, func)"
   ]
  },
  {
   "cell_type": "code",
   "execution_count": null,
   "metadata": {},
   "outputs": [],
   "source": [
    "import numpy as np\n",
    "def is_cloudy(array, value=15, threshold=0.05):\n",
    "    value_count = (array > value).sum()\n",
    "    value_percent = value_count / array.size\n",
    "\n",
    "    if value_percent > threshold:\n",
    "        return True\n",
    "    else:\n",
    "        return False\n",
    "    \n",
    "def has_nodata(array, threshold=0.05, test_band=0):\n",
    "    array = array[test_band]\n",
    "    value_count = np.count_nonzero(array==0)\n",
    "    value_percent = value_count / array.size\n",
    "\n",
    "    if value_percent > threshold:\n",
    "        return True\n",
    "    else:\n",
    "        return False"
   ]
  },
  {
   "cell_type": "code",
   "execution_count": null,
   "metadata": {},
   "outputs": [],
   "source": [
    "from itertools import product\n",
    "import rasterio as rio\n",
    "from rasterio import windows\n",
    "\n",
    "def get_windows(ds, tiles, tile_size=512):\n",
    "    ncols, nrows = ds.meta['width'] - (ds.meta['width'] % tile_size), ds.meta['height'] - (ds.meta['height'] % tile_size)\n",
    "    offsets = zip([int(t.split('_')[0]) for t in tiles], [int(t.split('_')[-1]) for t in tiles])\n",
    "    big_window = windows.Window(col_off=0, row_off=0, width=ncols, height=nrows)\n",
    "    for col_off, row_off in offsets:\n",
    "        window = windows.Window(col_off=col_off, row_off=row_off, width=tile_size, height=tile_size).intersection(big_window)\n",
    "        transform = windows.transform(window, ds.transform)\n",
    "        yield window, transform\n",
    "\n",
    "def tile_scene(img, date, sensor, tile_set, type, tile_size, mask_ds, clouds=False):\n",
    "        \n",
    "    output_folder_img = os.path.join(dataserver, f\"imagery/{tile_size}_rnd\", type, sensor, 'img')\n",
    "    if not os.path.exists(output_folder_img):\n",
    "        os.mkdir(output_folder_img)\n",
    "    output_folder_mask = os.path.join(dataserver, f\"imagery/{tile_size}_rnd\", type, sensor, 'mask')\n",
    "    if not os.path.exists(output_folder_mask):\n",
    "        os.mkdir(output_folder_mask)\n",
    "\n",
    "    with rio.open(img) as in_ds:\n",
    "        meta = in_ds.meta.copy()\n",
    "        msk_meta = mask_ds.meta.copy()\n",
    "\n",
    "        for window, transform in get_windows(in_ds, tile_set, tile_size=tile_size):\n",
    "            meta['transform'] = transform\n",
    "            meta['width'], meta['height'] = window.width, window.height\n",
    "            msk_meta['transform'] = transform\n",
    "            msk_meta['width'], msk_meta['height'] = window.width, window.height\n",
    "            outpath_img = os.path.join(output_folder_img, f'{date}_{int(window.col_off)}_{int(window.row_off)}.png')\n",
    "            outpath_mask = os.path.join(output_folder_mask, f'{date}_{int(window.col_off)}_{int(window.row_off)}.png')\n",
    "            \n",
    "            if clouds:\n",
    "                meta['count'] = 12\n",
    "                cld_tile = in_ds.read(13, window=window)\n",
    "                if is_cloudy(cld_tile):\n",
    "                    continue\n",
    "                else:\n",
    "                    with rio.open(outpath_img, 'w', **meta) as out_img_ds:\n",
    "                        out_img_ds.write(in_ds.read(tuple(range(1,13)), window=window))\n",
    "                    with rio.open(outpath_mask, 'w', **msk_meta) as out_mask_ds:\n",
    "                        out_mask_ds.write(mask_ds.read(window=window))\n",
    "            elif sensor == 's1s2':\n",
    "                tile = in_ds.read(window=window)\n",
    "                if has_nodata(tile, test_band=13):\n",
    "                    continue\n",
    "                else:\n",
    "                    with rio.open(outpath_img, 'w', **meta) as out_img_ds:\n",
    "                        out_img_ds.write(tile)\n",
    "                    with rio.open(outpath_mask, 'w', **msk_meta) as out_mask_ds:\n",
    "                        out_mask_ds.write(mask_ds.read(window=window))\n",
    "            \n",
    "            else:\n",
    "                tile = in_ds.read(window=window)\n",
    "                if has_nodata(tile):\n",
    "                    continue\n",
    "                else:\n",
    "                    with rio.open(outpath_img, 'w', **meta) as out_img_ds:\n",
    "                        out_img_ds.write(tile)\n",
    "                    with rio.open(outpath_mask, 'w', **msk_meta) as out_mask_ds:\n",
    "                        out_mask_ds.write(mask_ds.read(window=window))"
   ]
  },
  {
   "cell_type": "code",
   "execution_count": null,
   "metadata": {},
   "outputs": [],
   "source": [
    "mask_path = '/filserver/user/geodata/mask_2020.tif'\n",
    "mask_ds = rio.open(mask_path)\n",
    "s1_images = glob.glob(f'{os.path.join(filserver, \"imagery\", \"Sentinel-1\", year)}/*aligned.tiff', recursive=False)\n",
    "s2_images = glob.glob(f'{os.path.join(filserver, \"imagery\", \"Sentinel-2\", year)}/*aligned.tiff', recursive=False)\n",
    "s1s2_images = glob.glob(f'{os.path.join(filserver, \"imagery\", \"Sentinel-1_Sentinel-2\", year)}/*aligned_sar.tiff', recursive=False)"
   ]
  },
  {
   "cell_type": "code",
   "execution_count": null,
   "metadata": {},
   "outputs": [],
   "source": [
    "sensor = \"s1\"\n",
    "for type in types:\n",
    "    for func in functions:\n",
    "        folder = os.path.join(img_dest_folder, type, sensor, func)\n",
    "        os.makedirs(folder, exist_ok=True)\n",
    "        for fn in os.listdir(folder):\n",
    "            os.unlink(os.path.join(folder, fn))\n",
    "            \n",
    "for img in s1_images:\n",
    "    print(img)\n",
    "    date = os.path.splitext(os.path.basename(img))[0].split(\"_\")[4]\n",
    "    tile_scene(img, date, sensor, train_tiles, 'train', tile_size, mask_ds)\n",
    "    tile_scene(img, date, sensor, test_tiles, 'test', tile_size, mask_ds)"
   ]
  },
  {
   "cell_type": "code",
   "execution_count": null,
   "metadata": {},
   "outputs": [],
   "source": [
    "sensor = \"s2\"\n",
    "for type in types:\n",
    "    for func in functions:\n",
    "        folder = os.path.join(img_dest_folder, type, sensor, func)\n",
    "        os.makedirs(folder, exist_ok=True)\n",
    "        for fn in os.listdir(folder):\n",
    "            os.unlink(os.path.join(folder, fn))\n",
    "\n",
    "for img in s2_images:\n",
    "    print(img)\n",
    "    date = os.path.splitext(os.path.basename(img))[0].split(\"_\")[2]\n",
    "    tile_scene(img, date, sensor, train_tiles, 'train', tile_size, mask_ds, clouds=True)\n",
    "    tile_scene(img, date, sensor, test_tiles, 'test', tile_size, mask_ds, clouds=True)"
   ]
  },
  {
   "cell_type": "code",
   "execution_count": null,
   "metadata": {},
   "outputs": [],
   "source": [
    "sensor = \"s1s2\"\n",
    "for type in types:\n",
    "    for func in functions:\n",
    "        folder = os.path.join(img_dest_folder, type, sensor, func)\n",
    "        os.makedirs(folder, exist_ok=True)\n",
    "        for fn in os.listdir(folder):\n",
    "            os.unlink(os.path.join(folder, fn))\n",
    "        \n",
    "\n",
    "for img in s1s2_images:\n",
    "    print(img)\n",
    "    date = os.path.splitext(os.path.basename(img))[0].split(\"_\")[2]\n",
    "    tile_scene(img, date, sensor, train_tiles, 'train', tile_size, mask_ds)\n",
    "    tile_scene(img, date, sensor, test_tiles, 'test', tile_size, mask_ds)"
   ]
  },
  {
   "cell_type": "code",
   "execution_count": null,
   "metadata": {},
   "outputs": [],
   "source": [
    "400*12"
   ]
  },
  {
   "cell_type": "code",
   "execution_count": null,
   "metadata": {},
   "outputs": [],
   "source": [
    "n_s1_images = len(s1_images)\n",
    "n_s2_images = len(s2_images)\n",
    "n_s1s2_images = len(s1s2_images)\n",
    "\n",
    "pot_n_s1_tiles = n_s1_images*400\n",
    "pot_n_s2_tiles = n_s2_images*400\n",
    "pot_n_s1s2_tiles = n_s1s2_images*400\n",
    "\n",
    "n_s1_train_tiles = len(glob.glob(f'/data/user/imagery/512_rnd/train/s1/img/*.png'))\n",
    "n_s2_train_tiles = len(glob.glob(f'/data/user/imagery/512_rnd/train/s2/img/*.png'))\n",
    "n_s1s2_train_tiles = len(glob.glob(f'/data/user/imagery/512_rnd/train/s1s2/img/*.png'))\n",
    "\n",
    "n_s1_test_tiles = len(glob.glob(f'/data/user/imagery/512_rnd/test/s1/img/*.png'))\n",
    "n_s2_test_tiles = len(glob.glob(f'/data/user/imagery/512_rnd/test/s2/img/*.png'))\n",
    "n_s1s2_test_tiles = len(glob.glob(f'/data/user/imagery/512_rnd/test/s1s2/img/*.png'))\n",
    "\n",
    "n_s1_tiles = len(glob.glob(f'/data/user/imagery/512_rnd/*/s1/img/*.png'))\n",
    "n_s2_tiles = len(glob.glob(f'/data/fruserov/imagery/512_rnd/*/s2/img/*.png'))\n",
    "n_s1s2_tiles = len(glob.glob(f'/data/user/imagery/512_rnd/*/s1s2/img/*.png'))\n",
    "\n",
    "utilization_s1_train = n_s1_train_tiles/(n_s1_images*300)\n",
    "utilization_s2_train = n_s2_train_tiles/(n_s2_images*300)\n",
    "utilization_s1s2_train = n_s1s2_train_tiles/(n_s1s2_images*300)\n",
    "\n",
    "utilization_s1_test = n_s1_test_tiles/(n_s1_images*100)\n",
    "utilization_s2_test = n_s2_test_tiles/(n_s2_images*100)\n",
    "utilization_s1s2_test = n_s1s2_test_tiles/(n_s1s2_images*100)\n",
    "\n",
    "utilization_s1 = n_s1_tiles/(n_s1_images*400)\n",
    "utilization_s2 = n_s2_tiles/(n_s2_images*400)\n",
    "utilization_s1s2 = n_s1s2_tiles/(n_s1s2_images*400)\n",
    "\n",
    "print(pot_n_s1_tiles, n_s1_train_tiles, utilization_s1_train, n_s1_test_tiles, utilization_s1_test, utilization_s1)\n",
    "print(pot_n_s2_tiles, n_s2_train_tiles, utilization_s2_train, n_s2_test_tiles, utilization_s2_test, utilization_s2)\n",
    "print(pot_n_s1s2_tiles, n_s1s2_train_tiles, utilization_s1s2_train, n_s1s2_test_tiles, utilization_s1s2_test, utilization_s1s2)"
   ]
  },
  {
   "cell_type": "code",
   "execution_count": null,
   "metadata": {},
   "outputs": [],
   "source": [
    "print(len(s1s2_images)*300)\n",
    "len(glob.glob(f'/data/user/imagery/512_rnd/train/s1s2/img/*.png'))"
   ]
  },
  {
   "cell_type": "code",
   "execution_count": null,
   "metadata": {},
   "outputs": [],
   "source": [
    "import rasterio as rio\n",
    "import numpy as np\n",
    "\n",
    "ex_tile = '1407_77'\n",
    "\n",
    "img_tiles = glob.glob(f'/data/user/imagery/512_rnd/*/s1s2/img/*{ex_tile}.png')\n",
    "mask_tiles = glob.glob(f'/data/user/imagery/512_rnd/*/s1s2/mask/*{ex_tile}.png')\n",
    "print(len(img_tiles), len(mask_tiles))\n",
    "\n",
    "for img, msk in zip(img_tiles, mask_tiles):\n",
    "    utils.show_msi(img, bands=[4,13,13])\n",
    "    # utils.show_single_band_img(msk)\n",
    "    "
   ]
  }
 ],
 "metadata": {
  "kernelspec": {
   "display_name": "ml",
   "language": "python",
   "name": "python3"
  },
  "language_info": {
   "codemirror_mode": {
    "name": "ipython",
    "version": 3
   },
   "file_extension": ".py",
   "mimetype": "text/x-python",
   "name": "python",
   "nbconvert_exporter": "python",
   "pygments_lexer": "ipython3",
   "version": "3.9.17"
  }
 },
 "nbformat": 4,
 "nbformat_minor": 2
}
